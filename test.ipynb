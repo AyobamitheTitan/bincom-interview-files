{
 "cells": [
  {
   "cell_type": "code",
   "execution_count": 1,
   "metadata": {},
   "outputs": [
    {
     "name": "stdout",
     "output_type": "stream",
     "text": [
      "         DAY                                            COLOURS\n",
      "0     MONDAY  GREEN,YELLOW,GREEN,BROWN,BLUE,PINK,BLUE,YELLOW...\n",
      "1    TUESDAY  ASH,BROWN,GREEN,BROWN,BLUE,BLUE,BLEW,PINK,PINK...\n",
      "2  WEDNESDAY  GREEN,YELLOW,GREEN,BROWN,BLUE,PINK,RED,YELLOW,...\n",
      "3   THURSDAY  BLUE,BLUE,GREEN,WHITE,BLUE,BROWN,PINK,YELLOW,O...\n",
      "4     FRIDAY  GREEN,WHITE,GREEN,BROWN,BLUE,BLUE,BLACK,WHITE,...\n"
     ]
    }
   ],
   "source": [
    "import pandas as pd\n",
    "\n",
    "# I copied the clothing information into a spreadsheet \n",
    "# and i used pandas library to read it and numpy to interact with it\n",
    "dataframe = pd.read_excel('class.xlsx')\n",
    "print(dataframe)"
   ]
  },
  {
   "cell_type": "code",
   "execution_count": 5,
   "metadata": {},
   "outputs": [],
   "source": [
    "from collections import defaultdict\n",
    "import math\n",
    "\n",
    "collect = defaultdict(int)\n",
    "count = dataframe['COLOURS'].to_numpy()\n",
    "\n",
    "new_array = []\n",
    "for i in count:\n",
    "    arr = i.split(',')\n",
    "    for x in arr:\n",
    "        new_array.append(x)\n",
    "        collect[x] += 1\n",
    "\n",
    "totalColours = collect.values()\n",
    "mean = sum(totalColours)\n",
    "mode = max(totalColours)\n",
    "\n",
    "middle_index = math.floor(len(new_array)/2)\n",
    "median = new_array[middle_index]\n",
    "\n",
    "placeholder = 0\n",
    "sqr = lambda x : x*x\n",
    "# variance\n",
    "for x in collect.values():\n",
    "    placeholder += sqr(x - mean)\n",
    "    \n",
    "N = len(collect) - 1\n",
    "variance = placeholder/N\n",
    "\n",
    "# RED chosen at random\n",
    "REDRandom = collect['RED']/sum(totalColours)"
   ]
  },
  {
   "cell_type": "code",
   "execution_count": 6,
   "metadata": {},
   "outputs": [
    {
     "ename": "ModuleNotFoundError",
     "evalue": "No module named 'psycopg2'",
     "output_type": "error",
     "traceback": [
      "\u001b[0;31m---------------------------------------------------------------------------\u001b[0m",
      "\u001b[0;31mModuleNotFoundError\u001b[0m                       Traceback (most recent call last)",
      "\u001b[0;32m<ipython-input-6-427f664e0b75>\u001b[0m in \u001b[0;36m<module>\u001b[0;34m\u001b[0m\n\u001b[1;32m      1\u001b[0m \u001b[0;31m# write to database\u001b[0m\u001b[0;34m\u001b[0m\u001b[0;34m\u001b[0m\u001b[0;34m\u001b[0m\u001b[0m\n\u001b[0;32m----> 2\u001b[0;31m \u001b[0;32mimport\u001b[0m \u001b[0mpsycopg2\u001b[0m\u001b[0;34m\u001b[0m\u001b[0;34m\u001b[0m\u001b[0m\n\u001b[0m\u001b[1;32m      3\u001b[0m \u001b[0;34m\u001b[0m\u001b[0m\n\u001b[1;32m      4\u001b[0m \u001b[0mdsn\u001b[0m \u001b[0;34m=\u001b[0m \u001b[0;34m\"user=user dbname=work port=5433 host=127.0.0.1\"\u001b[0m\u001b[0;34m\u001b[0m\u001b[0;34m\u001b[0m\u001b[0m\n\u001b[1;32m      5\u001b[0m \u001b[0;32mtry\u001b[0m\u001b[0;34m:\u001b[0m\u001b[0;34m\u001b[0m\u001b[0;34m\u001b[0m\u001b[0m\n",
      "\u001b[0;31mModuleNotFoundError\u001b[0m: No module named 'psycopg2'"
     ]
    }
   ],
   "source": [
    "# write to database\n",
    "import psycopg2\n",
    "\n",
    "dsn = \"user=user dbname=work port=5433 host=127.0.0.1\"\n",
    "try:\n",
    "    connection = psycopg2.connect(dsn)\n",
    "    cursor = connection.cursor()\n",
    "    \n",
    "    insert_query = \"\"\"INSERT INTO colours(id,colour,frequency) VALUES (%s,%s,%s)\"\"\"\n",
    "    i = 0\n",
    "    for colour in collect:\n",
    "        record = (i,colour,collect[colour])\n",
    "        cursor.execute(insert_query,record)\n",
    "        i += 1\n",
    "        connection.commit()\n",
    "        print(\"New Record inserted\")\n",
    "except (Exception,psycopg2.Error) as error:\n",
    "    print(f\"Failed to write to database because of error : {error}\")\n",
    "finally:\n",
    "    if connection:\n",
    "        cursor.close()\n",
    "        connection.close()\n",
    "        print(\"Connection closed\")"
   ]
  },
  {
   "cell_type": "code",
   "execution_count": 7,
   "metadata": {},
   "outputs": [
    {
     "name": "stdout",
     "output_type": "stream",
     "text": [
      "True\n"
     ]
    }
   ],
   "source": [
    "# recursive algorithm for search\n",
    "def recursiveSearch(num:int,listOfNums:list):\n",
    "    if listOfNums == []:\n",
    "        return False\n",
    "    elif listOfNums[0] == num:\n",
    "        return True\n",
    "    \n",
    "    return recursiveSearch(num,listOfNums[1:])\n",
    "    \n",
    "print(recursiveSearch(5,[1,2,3,4,5,6]))"
   ]
  },
  {
   "cell_type": "code",
   "execution_count": null,
   "metadata": {},
   "outputs": [
    {
     "name": "stdout",
     "output_type": "stream",
     "text": [
      "20365011074\n",
      "12586269025\n"
     ]
    }
   ],
   "source": [
    "# sum of first 50 fibo\n",
    "def fibo(n,memo={}):\n",
    "    if n in [0,1]:\n",
    "        return n\n",
    "    if not memo.get(n):\n",
    "        memo[n] =  fibo(n-2,memo) + fibo(n-1,memo)\n",
    "            \n",
    "    return memo[n]\n",
    "\n",
    "print(fibo(50))"
   ]
  },
  {
   "cell_type": "code",
   "execution_count": null,
   "metadata": {},
   "outputs": [],
   "source": [
    "# number 9 : random 4 digit binary\n",
    "from random import randint\n",
    "def power(num:int,exp:int):\n",
    "    result = 1\n",
    "    if exp == 0:\n",
    "        return 1\n",
    "    for i in range(exp):\n",
    "        result *= num\n",
    "    return result\n",
    "\n",
    "def randomBinary():\n",
    "    binary = f\"{randint(0,1)}{randint(0,1)}{randint(0,1)}{randint(0,1)}\"\n",
    "    \n",
    "    decimal = 0\n",
    "    index = 3\n",
    "    last = 0\n",
    "    \n",
    "    while index >= 0:\n",
    "        decimal += (int(binary[index]) * power(2,last))\n",
    "        last += 1\n",
    "        index -= 1\n",
    "    return [binary,decimal]\n",
    "\n",
    "print(randomBinary())"
   ]
  },
  {
   "cell_type": "code",
   "execution_count": null,
   "metadata": {},
   "outputs": [],
   "source": []
  }
 ],
 "metadata": {
  "kernelspec": {
   "display_name": "Python 3",
   "language": "python",
   "name": "python3"
  },
  "language_info": {
   "codemirror_mode": {
    "name": "ipython",
    "version": 3
   },
   "file_extension": ".py",
   "mimetype": "text/x-python",
   "name": "python",
   "nbconvert_exporter": "python",
   "pygments_lexer": "ipython3",
   "version": "3.8.5"
  },
  "orig_nbformat": 4
 },
 "nbformat": 4,
 "nbformat_minor": 2
}
